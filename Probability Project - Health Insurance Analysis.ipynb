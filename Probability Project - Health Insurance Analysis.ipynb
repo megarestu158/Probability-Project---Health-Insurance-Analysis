{
 "cells": [
  {
   "cell_type": "code",
   "execution_count": 1,
   "id": "27751633-adf0-4e2a-826f-99ea3889d6eb",
   "metadata": {},
   "outputs": [
    {
     "data": {
      "text/plain": [
       "<Figure size 864x432 with 0 Axes>"
      ]
     },
     "metadata": {},
     "output_type": "display_data"
    }
   ],
   "source": [
    "import pandas as pd\n",
    "import numpy as np\n",
    "\n",
    "import seaborn as sns\n",
    "import matplotlib.pyplot as plt\n",
    "%matplotlib inline\n",
    "sns.set(rc={'figure.figsize':(20.7,8.27)})\n",
    "sns.set_style(\"whitegrid\")\n",
    "sns.color_palette(\"dark\")\n",
    "plt.style.use(\"fivethirtyeight\")\n",
    "plt.figure(figsize=(12,6))\n",
    "\n",
    "import warnings \n",
    "warnings.filterwarnings('ignore')"
   ]
  },
  {
   "cell_type": "code",
   "execution_count": 2,
   "id": "333d2fce-690b-4ddd-8ada-775db9194d52",
   "metadata": {},
   "outputs": [],
   "source": [
    "df = pd.read_csv('insurance.csv')"
   ]
  },
  {
   "cell_type": "code",
   "execution_count": 3,
   "id": "5848db93-bebc-4889-91ec-04d67c4b51b0",
   "metadata": {},
   "outputs": [
    {
     "data": {
      "text/html": [
       "<div>\n",
       "<style scoped>\n",
       "    .dataframe tbody tr th:only-of-type {\n",
       "        vertical-align: middle;\n",
       "    }\n",
       "\n",
       "    .dataframe tbody tr th {\n",
       "        vertical-align: top;\n",
       "    }\n",
       "\n",
       "    .dataframe thead th {\n",
       "        text-align: right;\n",
       "    }\n",
       "</style>\n",
       "<table border=\"1\" class=\"dataframe\">\n",
       "  <thead>\n",
       "    <tr style=\"text-align: right;\">\n",
       "      <th></th>\n",
       "      <th>age</th>\n",
       "      <th>sex</th>\n",
       "      <th>bmi</th>\n",
       "      <th>children</th>\n",
       "      <th>smoker</th>\n",
       "      <th>region</th>\n",
       "      <th>charges</th>\n",
       "    </tr>\n",
       "  </thead>\n",
       "  <tbody>\n",
       "    <tr>\n",
       "      <th>0</th>\n",
       "      <td>19</td>\n",
       "      <td>female</td>\n",
       "      <td>27.90</td>\n",
       "      <td>0</td>\n",
       "      <td>yes</td>\n",
       "      <td>southwest</td>\n",
       "      <td>16884.9240</td>\n",
       "    </tr>\n",
       "    <tr>\n",
       "      <th>1</th>\n",
       "      <td>18</td>\n",
       "      <td>male</td>\n",
       "      <td>33.77</td>\n",
       "      <td>1</td>\n",
       "      <td>no</td>\n",
       "      <td>southeast</td>\n",
       "      <td>1725.5523</td>\n",
       "    </tr>\n",
       "    <tr>\n",
       "      <th>2</th>\n",
       "      <td>28</td>\n",
       "      <td>male</td>\n",
       "      <td>33.00</td>\n",
       "      <td>3</td>\n",
       "      <td>no</td>\n",
       "      <td>southeast</td>\n",
       "      <td>4449.4620</td>\n",
       "    </tr>\n",
       "  </tbody>\n",
       "</table>\n",
       "</div>"
      ],
      "text/plain": [
       "   age     sex    bmi  children smoker     region     charges\n",
       "0   19  female  27.90         0    yes  southwest  16884.9240\n",
       "1   18    male  33.77         1     no  southeast   1725.5523\n",
       "2   28    male  33.00         3     no  southeast   4449.4620"
      ]
     },
     "execution_count": 3,
     "metadata": {},
     "output_type": "execute_result"
    }
   ],
   "source": [
    "df.head(3)"
   ]
  },
  {
   "cell_type": "code",
   "execution_count": 4,
   "id": "d313aa5e-8f11-40fe-8ce5-725cc13a24a6",
   "metadata": {},
   "outputs": [
    {
     "name": "stdout",
     "output_type": "stream",
     "text": [
      "<class 'pandas.core.frame.DataFrame'>\n",
      "RangeIndex: 1338 entries, 0 to 1337\n",
      "Data columns (total 7 columns):\n",
      " #   Column    Non-Null Count  Dtype  \n",
      "---  ------    --------------  -----  \n",
      " 0   age       1338 non-null   int64  \n",
      " 1   sex       1338 non-null   object \n",
      " 2   bmi       1338 non-null   float64\n",
      " 3   children  1338 non-null   int64  \n",
      " 4   smoker    1338 non-null   object \n",
      " 5   region    1338 non-null   object \n",
      " 6   charges   1338 non-null   float64\n",
      "dtypes: float64(2), int64(2), object(3)\n",
      "memory usage: 73.3+ KB\n"
     ]
    }
   ],
   "source": [
    "df.info()"
   ]
  },
  {
   "cell_type": "markdown",
   "id": "3f29c078-77a0-4268-a21d-604ee1e4b17b",
   "metadata": {
    "tags": []
   },
   "source": [
    "# Analisis Deskriptif"
   ]
  },
  {
   "cell_type": "code",
   "execution_count": 49,
   "id": "5da20913-7d56-4cfc-998b-12e4de46222d",
   "metadata": {},
   "outputs": [
    {
     "data": {
      "text/html": [
       "<div>\n",
       "<style scoped>\n",
       "    .dataframe tbody tr th:only-of-type {\n",
       "        vertical-align: middle;\n",
       "    }\n",
       "\n",
       "    .dataframe tbody tr th {\n",
       "        vertical-align: top;\n",
       "    }\n",
       "\n",
       "    .dataframe thead th {\n",
       "        text-align: right;\n",
       "    }\n",
       "</style>\n",
       "<table border=\"1\" class=\"dataframe\">\n",
       "  <thead>\n",
       "    <tr style=\"text-align: right;\">\n",
       "      <th></th>\n",
       "      <th>count</th>\n",
       "      <th>mean</th>\n",
       "      <th>std</th>\n",
       "      <th>min</th>\n",
       "      <th>25%</th>\n",
       "      <th>50%</th>\n",
       "      <th>75%</th>\n",
       "      <th>max</th>\n",
       "    </tr>\n",
       "  </thead>\n",
       "  <tbody>\n",
       "    <tr>\n",
       "      <th>age</th>\n",
       "      <td>1338.0</td>\n",
       "      <td>39.207025</td>\n",
       "      <td>14.049960</td>\n",
       "      <td>18.0000</td>\n",
       "      <td>27.00000</td>\n",
       "      <td>39.000</td>\n",
       "      <td>51.000000</td>\n",
       "      <td>64.00000</td>\n",
       "    </tr>\n",
       "    <tr>\n",
       "      <th>bmi</th>\n",
       "      <td>1338.0</td>\n",
       "      <td>30.663397</td>\n",
       "      <td>6.098187</td>\n",
       "      <td>15.9600</td>\n",
       "      <td>26.29625</td>\n",
       "      <td>30.400</td>\n",
       "      <td>34.693750</td>\n",
       "      <td>53.13000</td>\n",
       "    </tr>\n",
       "    <tr>\n",
       "      <th>children</th>\n",
       "      <td>1338.0</td>\n",
       "      <td>1.094918</td>\n",
       "      <td>1.205493</td>\n",
       "      <td>0.0000</td>\n",
       "      <td>0.00000</td>\n",
       "      <td>1.000</td>\n",
       "      <td>2.000000</td>\n",
       "      <td>5.00000</td>\n",
       "    </tr>\n",
       "    <tr>\n",
       "      <th>charges</th>\n",
       "      <td>1338.0</td>\n",
       "      <td>13270.422265</td>\n",
       "      <td>12110.011237</td>\n",
       "      <td>1121.8739</td>\n",
       "      <td>4740.28715</td>\n",
       "      <td>9382.033</td>\n",
       "      <td>16639.912515</td>\n",
       "      <td>63770.42801</td>\n",
       "    </tr>\n",
       "  </tbody>\n",
       "</table>\n",
       "</div>"
      ],
      "text/plain": [
       "           count          mean           std        min         25%       50%  \\\n",
       "age       1338.0     39.207025     14.049960    18.0000    27.00000    39.000   \n",
       "bmi       1338.0     30.663397      6.098187    15.9600    26.29625    30.400   \n",
       "children  1338.0      1.094918      1.205493     0.0000     0.00000     1.000   \n",
       "charges   1338.0  13270.422265  12110.011237  1121.8739  4740.28715  9382.033   \n",
       "\n",
       "                   75%          max  \n",
       "age          51.000000     64.00000  \n",
       "bmi          34.693750     53.13000  \n",
       "children      2.000000      5.00000  \n",
       "charges   16639.912515  63770.42801  "
      ]
     },
     "execution_count": 49,
     "metadata": {},
     "output_type": "execute_result"
    }
   ],
   "source": [
    "df.describe().T"
   ]
  },
  {
   "cell_type": "markdown",
   "id": "2e905a41-023c-41b8-8ead-d5f15926e446",
   "metadata": {},
   "source": [
    "## 1. Apakah rata rata umur perempuan dan laki-laki yang merokok sama?"
   ]
  },
  {
   "cell_type": "code",
   "execution_count": 16,
   "id": "f09a11a8-2432-4446-9cc1-1b9f33ac02d7",
   "metadata": {},
   "outputs": [
    {
     "data": {
      "text/html": [
       "<div>\n",
       "<style scoped>\n",
       "    .dataframe tbody tr th:only-of-type {\n",
       "        vertical-align: middle;\n",
       "    }\n",
       "\n",
       "    .dataframe tbody tr th {\n",
       "        vertical-align: top;\n",
       "    }\n",
       "\n",
       "    .dataframe thead th {\n",
       "        text-align: right;\n",
       "    }\n",
       "</style>\n",
       "<table border=\"1\" class=\"dataframe\">\n",
       "  <thead>\n",
       "    <tr style=\"text-align: right;\">\n",
       "      <th></th>\n",
       "      <th>age</th>\n",
       "    </tr>\n",
       "    <tr>\n",
       "      <th>sex</th>\n",
       "      <th></th>\n",
       "    </tr>\n",
       "  </thead>\n",
       "  <tbody>\n",
       "    <tr>\n",
       "      <th>female</th>\n",
       "      <td>38.61</td>\n",
       "    </tr>\n",
       "    <tr>\n",
       "      <th>male</th>\n",
       "      <td>38.45</td>\n",
       "    </tr>\n",
       "  </tbody>\n",
       "</table>\n",
       "</div>"
      ],
      "text/plain": [
       "          age\n",
       "sex          \n",
       "female  38.61\n",
       "male    38.45"
      ]
     },
     "execution_count": 16,
     "metadata": {},
     "output_type": "execute_result"
    }
   ],
   "source": [
    "gender_smoke = df[['age', 'sex', 'smoker']].where(df['smoker']=='yes').groupby(df['sex']).mean()\n",
    "np.round(gender_smoke, 2)"
   ]
  },
  {
   "cell_type": "markdown",
   "id": "666a7f82-6b9a-4272-a65c-af93c36356cb",
   "metadata": {},
   "source": [
    "secara umum rata-rata umur laki-laki dan perempuan yang merokok tidak jauh berbeda."
   ]
  },
  {
   "cell_type": "markdown",
   "id": "7464fe7a-31e5-467e-b17a-6cc3057d34d4",
   "metadata": {},
   "source": [
    "## 2. Mana yang lebih tinggi, rata rata tagihan kesehatan perokok atau non merokok?"
   ]
  },
  {
   "cell_type": "code",
   "execution_count": 7,
   "id": "cb3c4862-2956-4268-bd61-a60b4f832b68",
   "metadata": {},
   "outputs": [
    {
     "data": {
      "text/html": [
       "<div>\n",
       "<style scoped>\n",
       "    .dataframe tbody tr th:only-of-type {\n",
       "        vertical-align: middle;\n",
       "    }\n",
       "\n",
       "    .dataframe tbody tr th {\n",
       "        vertical-align: top;\n",
       "    }\n",
       "\n",
       "    .dataframe thead th {\n",
       "        text-align: right;\n",
       "    }\n",
       "</style>\n",
       "<table border=\"1\" class=\"dataframe\">\n",
       "  <thead>\n",
       "    <tr style=\"text-align: right;\">\n",
       "      <th></th>\n",
       "      <th>charges</th>\n",
       "    </tr>\n",
       "    <tr>\n",
       "      <th>smoker</th>\n",
       "      <th></th>\n",
       "    </tr>\n",
       "  </thead>\n",
       "  <tbody>\n",
       "    <tr>\n",
       "      <th>no</th>\n",
       "      <td>8434.27</td>\n",
       "    </tr>\n",
       "    <tr>\n",
       "      <th>yes</th>\n",
       "      <td>32050.23</td>\n",
       "    </tr>\n",
       "  </tbody>\n",
       "</table>\n",
       "</div>"
      ],
      "text/plain": [
       "         charges\n",
       "smoker          \n",
       "no       8434.27\n",
       "yes     32050.23"
      ]
     },
     "execution_count": 7,
     "metadata": {},
     "output_type": "execute_result"
    }
   ],
   "source": [
    "charges_smoker = df[['charges', 'smoker']].groupby(['smoker']).mean()\n",
    "np.round(charges_smoker, 2)"
   ]
  },
  {
   "cell_type": "markdown",
   "id": "c6497f00-f645-47fa-925e-c66ee73f5dcd",
   "metadata": {},
   "source": [
    "Tagihan kesehatan perokok jauh lebih tinggi (280%) dibandingkan non-perokok"
   ]
  },
  {
   "cell_type": "markdown",
   "id": "9d4233e6-8595-46c4-8209-732476c749fb",
   "metadata": {},
   "source": [
    "## 3. Mana yang lebih tinggi, rata rata tagihan kesehatan perokok yang BMI nya diatas 25 atau non perokok yang BMI nya diatas 25"
   ]
  },
  {
   "cell_type": "code",
   "execution_count": 35,
   "id": "cca9baa9-dd97-4a2d-92f9-fcf58cd877e2",
   "metadata": {},
   "outputs": [],
   "source": [
    "bmi_smoker = df[['charges', 'bmi', 'smoker']].where(df['bmi']>25)\n",
    "bmi_smoker.dropna(inplace=True)"
   ]
  },
  {
   "cell_type": "code",
   "execution_count": 36,
   "id": "d1872f63-701d-485e-ac75-a3647ddb316f",
   "metadata": {},
   "outputs": [
    {
     "data": {
      "text/html": [
       "<div>\n",
       "<style scoped>\n",
       "    .dataframe tbody tr th:only-of-type {\n",
       "        vertical-align: middle;\n",
       "    }\n",
       "\n",
       "    .dataframe tbody tr th {\n",
       "        vertical-align: top;\n",
       "    }\n",
       "\n",
       "    .dataframe thead th {\n",
       "        text-align: right;\n",
       "    }\n",
       "</style>\n",
       "<table border=\"1\" class=\"dataframe\">\n",
       "  <thead>\n",
       "    <tr style=\"text-align: right;\">\n",
       "      <th></th>\n",
       "      <th>charges</th>\n",
       "      <th>bmi</th>\n",
       "      <th>smoker</th>\n",
       "    </tr>\n",
       "  </thead>\n",
       "  <tbody>\n",
       "    <tr>\n",
       "      <th>0</th>\n",
       "      <td>16884.9240</td>\n",
       "      <td>27.90</td>\n",
       "      <td>yes</td>\n",
       "    </tr>\n",
       "    <tr>\n",
       "      <th>1</th>\n",
       "      <td>1725.5523</td>\n",
       "      <td>33.77</td>\n",
       "      <td>no</td>\n",
       "    </tr>\n",
       "    <tr>\n",
       "      <th>2</th>\n",
       "      <td>4449.4620</td>\n",
       "      <td>33.00</td>\n",
       "      <td>no</td>\n",
       "    </tr>\n",
       "    <tr>\n",
       "      <th>4</th>\n",
       "      <td>3866.8552</td>\n",
       "      <td>28.88</td>\n",
       "      <td>no</td>\n",
       "    </tr>\n",
       "    <tr>\n",
       "      <th>5</th>\n",
       "      <td>3756.6216</td>\n",
       "      <td>25.74</td>\n",
       "      <td>no</td>\n",
       "    </tr>\n",
       "  </tbody>\n",
       "</table>\n",
       "</div>"
      ],
      "text/plain": [
       "      charges    bmi smoker\n",
       "0  16884.9240  27.90    yes\n",
       "1   1725.5523  33.77     no\n",
       "2   4449.4620  33.00     no\n",
       "4   3866.8552  28.88     no\n",
       "5   3756.6216  25.74     no"
      ]
     },
     "execution_count": 36,
     "metadata": {},
     "output_type": "execute_result"
    }
   ],
   "source": [
    "bmi_smoker.head()"
   ]
  },
  {
   "cell_type": "code",
   "execution_count": 37,
   "id": "de041419-eeb0-42d2-9e29-682f3347881d",
   "metadata": {},
   "outputs": [
    {
     "data": {
      "text/html": [
       "<div>\n",
       "<style scoped>\n",
       "    .dataframe tbody tr th:only-of-type {\n",
       "        vertical-align: middle;\n",
       "    }\n",
       "\n",
       "    .dataframe tbody tr th {\n",
       "        vertical-align: top;\n",
       "    }\n",
       "\n",
       "    .dataframe thead th {\n",
       "        text-align: right;\n",
       "    }\n",
       "</style>\n",
       "<table border=\"1\" class=\"dataframe\">\n",
       "  <thead>\n",
       "    <tr style=\"text-align: right;\">\n",
       "      <th></th>\n",
       "      <th>charges</th>\n",
       "    </tr>\n",
       "    <tr>\n",
       "      <th>smoker</th>\n",
       "      <th></th>\n",
       "    </tr>\n",
       "  </thead>\n",
       "  <tbody>\n",
       "    <tr>\n",
       "      <th>no</th>\n",
       "      <td>8629.59</td>\n",
       "    </tr>\n",
       "    <tr>\n",
       "      <th>yes</th>\n",
       "      <td>35116.91</td>\n",
       "    </tr>\n",
       "  </tbody>\n",
       "</table>\n",
       "</div>"
      ],
      "text/plain": [
       "         charges\n",
       "smoker          \n",
       "no       8629.59\n",
       "yes     35116.91"
      ]
     },
     "execution_count": 37,
     "metadata": {},
     "output_type": "execute_result"
    }
   ],
   "source": [
    "np.round(bmi_smoker[['charges']].groupby(bmi_smoker['smoker']).mean(), 2)"
   ]
  },
  {
   "cell_type": "markdown",
   "id": "2e4500de-9a8c-4c7a-9daf-881f9348595a",
   "metadata": {},
   "source": [
    "Rata-rata tagihan kesehatan perokok dengan BMI > 25 lebih tinggi dibandingkan non perokok dengan BMI yang sama yakni sebesar 35116.91"
   ]
  },
  {
   "cell_type": "markdown",
   "id": "ff49952c-7ef1-4720-970b-abd8b10c828e",
   "metadata": {},
   "source": [
    "## Gender apa yang memiliki BMI lebih tinggi?"
   ]
  },
  {
   "cell_type": "code",
   "execution_count": 46,
   "id": "5b74e103-d710-45a5-969d-e74cb944a45d",
   "metadata": {},
   "outputs": [
    {
     "data": {
      "text/html": [
       "<div>\n",
       "<style scoped>\n",
       "    .dataframe tbody tr th:only-of-type {\n",
       "        vertical-align: middle;\n",
       "    }\n",
       "\n",
       "    .dataframe tbody tr th {\n",
       "        vertical-align: top;\n",
       "    }\n",
       "\n",
       "    .dataframe thead th {\n",
       "        text-align: right;\n",
       "    }\n",
       "</style>\n",
       "<table border=\"1\" class=\"dataframe\">\n",
       "  <thead>\n",
       "    <tr style=\"text-align: right;\">\n",
       "      <th></th>\n",
       "      <th>bmi</th>\n",
       "    </tr>\n",
       "    <tr>\n",
       "      <th>sex</th>\n",
       "      <th></th>\n",
       "    </tr>\n",
       "  </thead>\n",
       "  <tbody>\n",
       "    <tr>\n",
       "      <th>female</th>\n",
       "      <td>30.38</td>\n",
       "    </tr>\n",
       "    <tr>\n",
       "      <th>male</th>\n",
       "      <td>30.94</td>\n",
       "    </tr>\n",
       "  </tbody>\n",
       "</table>\n",
       "</div>"
      ],
      "text/plain": [
       "          bmi\n",
       "sex          \n",
       "female  30.38\n",
       "male    30.94"
      ]
     },
     "execution_count": 46,
     "metadata": {},
     "output_type": "execute_result"
    }
   ],
   "source": [
    "np.round(bmi_sex.groupby(df['sex']).mean(), 2)"
   ]
  },
  {
   "cell_type": "markdown",
   "id": "99e6b634-b463-4604-890d-de6c74df3cbc",
   "metadata": {},
   "source": [
    "Secara rata-rata BMI antara kedua gender tidak berbeda jauh, namun yang tertinggi adalah laki-laki yaitu sebesar 30.94."
   ]
  },
  {
   "cell_type": "markdown",
   "id": "6daeeec4-ccba-403e-8455-94395885bc65",
   "metadata": {},
   "source": [
    "## BMI mana yang lebih tinggi, seseorang perokok atau non perokok?"
   ]
  },
  {
   "cell_type": "code",
   "execution_count": 48,
   "id": "3be5f165-971a-46f1-9bf9-82e12945b875",
   "metadata": {},
   "outputs": [
    {
     "data": {
      "text/html": [
       "<div>\n",
       "<style scoped>\n",
       "    .dataframe tbody tr th:only-of-type {\n",
       "        vertical-align: middle;\n",
       "    }\n",
       "\n",
       "    .dataframe tbody tr th {\n",
       "        vertical-align: top;\n",
       "    }\n",
       "\n",
       "    .dataframe thead th {\n",
       "        text-align: right;\n",
       "    }\n",
       "</style>\n",
       "<table border=\"1\" class=\"dataframe\">\n",
       "  <thead>\n",
       "    <tr style=\"text-align: right;\">\n",
       "      <th></th>\n",
       "      <th>bmi</th>\n",
       "    </tr>\n",
       "    <tr>\n",
       "      <th>smoker</th>\n",
       "      <th></th>\n",
       "    </tr>\n",
       "  </thead>\n",
       "  <tbody>\n",
       "    <tr>\n",
       "      <th>no</th>\n",
       "      <td>30.65</td>\n",
       "    </tr>\n",
       "    <tr>\n",
       "      <th>yes</th>\n",
       "      <td>30.71</td>\n",
       "    </tr>\n",
       "  </tbody>\n",
       "</table>\n",
       "</div>"
      ],
      "text/plain": [
       "          bmi\n",
       "smoker       \n",
       "no      30.65\n",
       "yes     30.71"
      ]
     },
     "execution_count": 48,
     "metadata": {},
     "output_type": "execute_result"
    }
   ],
   "source": [
    "np.round(df[['bmi', 'smoker']].groupby(['smoker']).mean(), 2)"
   ]
  },
  {
   "cell_type": "markdown",
   "id": "3b4dca91-90b9-45f2-ab13-738019c1bd34",
   "metadata": {},
   "source": [
    "BMI antara perokok ataupun non perokok tidak terlalu jauh, namun yang tertinggi sebesar 30.71 yaitu dari yang perokok."
   ]
  },
  {
   "cell_type": "markdown",
   "id": "20bef5c6-e014-4cd4-a9cf-7857a86424c8",
   "metadata": {},
   "source": [
    "# Analisa Variabel Diskrit"
   ]
  },
  {
   "cell_type": "markdown",
   "id": "550c0160-2886-4efe-a8aa-e44b354c2014",
   "metadata": {},
   "source": [
    "## Apakah setiap region memiliki proporsi data banyak orang yang sama?"
   ]
  },
  {
   "cell_type": "code",
   "execution_count": 73,
   "id": "df69c521-6d0e-4394-a5f8-3bfd58e3832e",
   "metadata": {},
   "outputs": [
    {
     "data": {
      "text/plain": [
       "[Text(0, 0, '325'), Text(0, 0, '364'), Text(0, 0, '325'), Text(0, 0, '324')]"
      ]
     },
     "execution_count": 73,
     "metadata": {},
     "output_type": "execute_result"
    },
    {
     "data": {
      "image/png": "[encoded data removed]",
      "text/plain": [
       "<Figure size 1440x576 with 2 Axes>"
      ]
     },
     "metadata": {},
     "output_type": "display_data"
    }
   ],
   "source": [
    "fig, ax = plt.subplots(1,2,figsize=(20,8))\n",
    "\n",
    "df['region'].value_counts().plot(kind='pie',fontsize=14, autopct=\"%1.1f%%\",ax=ax[0])\n",
    "sns.countplot(x='region', data=df, ax=ax[1]).bar_label(ax[1].containers[0], label_type='edge')"
   ]
  },
  {
   "cell_type": "markdown",
   "id": "c616534b-15f2-4076-8d5b-87ef512f13cc",
   "metadata": {},
   "source": [
    "Setiap region hampir memiliki proporsi data yang sama."
   ]
  },
  {
   "cell_type": "markdown",
   "id": "d40928d0-15b3-4d1b-8166-4d1b87ddf261",
   "metadata": {},
   "source": [
    "## Mana yang lebih tinggi proporsi perokok atau non perokok?"
   ]
  },
  {
   "cell_type": "code",
   "execution_count": 74,
   "id": "9de974fb-192e-49b9-8faf-2cac3ad23cf1",
   "metadata": {},
   "outputs": [
    {
     "data": {
      "text/plain": [
       "[Text(0, 0, '274'), Text(0, 0, '1064')]"
      ]
     },
     "execution_count": 74,
     "metadata": {},
     "output_type": "execute_result"
    },
    {
     "data": {
      "image/png": "[encoded data removed]",
      "text/plain": [
       "<Figure size 1440x576 with 2 Axes>"
      ]
     },
     "metadata": {},
     "output_type": "display_data"
    }
   ],
   "source": [
    "fig, ax = plt.subplots(1,2,figsize=(20,8))\n",
    "\n",
    "df['smoker'].value_counts().plot(kind='pie',fontsize=14, autopct=\"%1.1f%%\",ax=ax[0])\n",
    "sns.countplot(x='smoker', data=df, ax=ax[1]).bar_label(ax[1].containers[0], label_type='edge')"
   ]
  },
  {
   "cell_type": "markdown",
   "id": "02ff5ec4-25e4-4223-be11-bf7eccf2e95f",
   "metadata": {},
   "source": [
    "## Berapa peluang seseorang tersebut adalah perempuan diketahui dia adalah perokok?"
   ]
  },
  {
   "cell_type": "code",
   "execution_count": 76,
   "id": "4ba6405c-d5a2-4948-a356-dfd8d6e71a35",
   "metadata": {},
   "outputs": [
    {
     "name": "stdout",
     "output_type": "stream",
     "text": [
      "no     547\n",
      "yes    115\n",
      "Name: smoker, dtype: int64\n"
     ]
    }
   ],
   "source": [
    "female_smoke = df['smoker'].where(df['sex']=='female').value_counts()\n",
    "print(female_smoke)"
   ]
  },
  {
   "cell_type": "code",
   "execution_count": 124,
   "id": "273c2033-f28c-4738-805a-08964d38cf99",
   "metadata": {},
   "outputs": [
    {
     "data": {
      "text/plain": [
       "<Axes: ylabel='smoker'>"
      ]
     },
     "execution_count": 124,
     "metadata": {},
     "output_type": "execute_result"
    },
    {
     "data": {
      "image/png": "[encoded data removed]",
      "text/plain": [
       "<Figure size 1490.4x595.44 with 1 Axes>"
      ]
     },
     "metadata": {},
     "output_type": "display_data"
    }
   ],
   "source": [
    "df['smoker'].where(df['sex']=='female').value_counts().plot(kind='pie',fontsize=14, autopct=\"%1.1f%%\")"
   ]
  },
  {
   "cell_type": "code",
   "execution_count": 77,
   "id": "33567f34-2265-4435-87e0-41da13faf92b",
   "metadata": {},
   "outputs": [
    {
     "name": "stdout",
     "output_type": "stream",
     "text": [
      "Peluang jenis kelamin perempuan sebagai perokok adalah 0.17\n"
     ]
    }
   ],
   "source": [
    "# Peluang jenis kelamin perempuan sebagai perokok adalah:\n",
    "p_female_smoker = female_smoke[1] / female_smoke.sum()\n",
    "print(\"Peluang jenis kelamin perempuan sebagai perokok adalah {}\".format(np.round(p_female_smoker, 2)))"
   ]
  },
  {
   "cell_type": "markdown",
   "id": "426a6a5e-1411-43e0-a66d-eea22d022fcf",
   "metadata": {},
   "source": [
    "## Berapa peluang seseorang tersebut adalah laki-laki diketahui dia adalah perokok?"
   ]
  },
  {
   "cell_type": "code",
   "execution_count": 78,
   "id": "82eb1127-23cd-46a3-9381-16e4fd7be703",
   "metadata": {},
   "outputs": [
    {
     "name": "stdout",
     "output_type": "stream",
     "text": [
      "no     517\n",
      "yes    159\n",
      "Name: smoker, dtype: int64\n"
     ]
    }
   ],
   "source": [
    "male_smoke = df['smoker'].where(df['sex']=='male').value_counts()\n",
    "print(male_smoke)"
   ]
  },
  {
   "cell_type": "code",
   "execution_count": 125,
   "id": "dfd4c3d2-762d-43f1-bdf8-98df89116cfa",
   "metadata": {},
   "outputs": [
    {
     "data": {
      "text/plain": [
       "<Axes: ylabel='smoker'>"
      ]
     },
     "execution_count": 125,
     "metadata": {},
     "output_type": "execute_result"
    },
    {
     "data": {
      "image/png": "[encoded data removed]",
      "text/plain": [
       "<Figure size 1490.4x595.44 with 1 Axes>"
      ]
     },
     "metadata": {},
     "output_type": "display_data"
    }
   ],
   "source": [
    "df['smoker'].where(df['sex']=='male').value_counts().plot(kind='pie',fontsize=14, autopct=\"%1.1f%%\")"
   ]
  },
  {
   "cell_type": "code",
   "execution_count": 79,
   "id": "dbf3022b-5e4b-4fea-a4b6-fd858c0c9c4b",
   "metadata": {},
   "outputs": [
    {
     "name": "stdout",
     "output_type": "stream",
     "text": [
      "Peluang jenis kelamin laki-laki sebagai perokok adalah 0.24\n"
     ]
    }
   ],
   "source": [
    "p_male_smoker = male_smoke[1] / male_smoke.sum()\n",
    "print(\"Peluang jenis kelamin laki-laki sebagai perokok adalah {}\".format(np.round(p_male_smoker, 2)))"
   ]
  },
  {
   "cell_type": "markdown",
   "id": "165fa0bd-1518-49db-bf55-ce083b1fa5ec",
   "metadata": {},
   "source": [
    "## Bagaimana bentuk distribusi peluang besar tagihan dari tiap-tiap region?"
   ]
  },
  {
   "cell_type": "code",
   "execution_count": 80,
   "id": "51e0e914-3a8d-4606-a9e3-4f27ec99e22e",
   "metadata": {},
   "outputs": [
    {
     "data": {
      "text/plain": [
       "<seaborn.axisgrid.FacetGrid at 0x7fd1c41cfac0>"
      ]
     },
     "execution_count": 80,
     "metadata": {},
     "output_type": "execute_result"
    },
    {
     "data": {
      "image/png": "[encoded data removed]",
      "text/plain": [
       "<Figure size 1440x360 with 4 Axes>"
      ]
     },
     "metadata": {},
     "output_type": "display_data"
    }
   ],
   "source": [
    "sns.displot(df, x='charges', col='region')"
   ]
  },
  {
   "cell_type": "markdown",
   "id": "5155f42b-e1df-491b-805c-fee45c4d19e6",
   "metadata": {},
   "source": [
    "# Analisis Variabel Kontinu"
   ]
  },
  {
   "cell_type": "markdown",
   "id": "b7751dbf-8929-4d6c-9ef1-65e998a3abda",
   "metadata": {},
   "source": [
    "## 1. Mana yang lebih mungkin terjadi</br>\n",
    "\n",
    "- Seseorang dengan BMI diatas 25 mendapatkan tagihan kesehatan diatas 16.7k, atau\n",
    "- Seseorang dengan BMI dibawah 25 mendapatkan tagihan kesehatan diatas 16.7k"
   ]
  },
  {
   "cell_type": "markdown",
   "id": "31a4f613-fe6c-42b0-84fd-7d9d29c7c85b",
   "metadata": {},
   "source": [
    "### Seseorang dengan BMI diatas 25 mendapatkan tagihan kesehatan diatas 16.7k, atau"
   ]
  },
  {
   "cell_type": "code",
   "execution_count": 82,
   "id": "93725c67-6deb-4e73-8b6d-bffa09297dcf",
   "metadata": {},
   "outputs": [
    {
     "name": "stdout",
     "output_type": "stream",
     "text": [
      "Jumlah orang mendapatkan tagihan kesehatan > 16.7K: 334\n",
      "Distribusi orang dengan BMI > 25 dan mendapatkan tagihan kesehatan > 16.7K: 283\n",
      "Probability jumlah orang dengan BMI > 25 dan mendapatkan tagihan kesehatan > 16.7K: 0.85\n"
     ]
    }
   ],
   "source": [
    "# 1. Jumlah sample yaitu orang dengan tagihan kesehatan > 16.7K\n",
    "jumlah_sample = df[df['charges']>16700].value_counts().sum()\n",
    "print(\"Jumlah orang mendapatkan tagihan kesehatan > 16.7K: {}\".format(jumlah_sample))\n",
    "\n",
    "# 2. Jumlah orang dengan bmi > 25 dan charges > 16.7K\n",
    "jumlah_1 = df.where((df['bmi']>25) & (df['charges']>16700)).value_counts().sum()\n",
    "print(\"Distribusi orang dengan BMI > 25 dan mendapatkan tagihan kesehatan > 16.7K: {}\".format(jumlah_1))\n",
    "\n",
    "# 3. Probability orang dengan bmi > 25 dan charges > 16.7K\n",
    "p_jumlah_1 = jumlah_1 / jumlah_sample\n",
    "print(\"Probability jumlah orang dengan BMI > 25 dan mendapatkan tagihan kesehatan > 16.7K: {}\".format(np.round(p_jumlah_1, 2)))"
   ]
  },
  {
   "cell_type": "markdown",
   "id": "b18debb7-50c1-4089-bde3-dbcdce2f983d",
   "metadata": {},
   "source": [
    "### Seseorang dengan BMI dibawah 25 mendapatkan tagihan kesehatan diatas 16.7k"
   ]
  },
  {
   "cell_type": "code",
   "execution_count": 84,
   "id": "161ebd13-cfde-4186-a5fb-560967d3d16b",
   "metadata": {},
   "outputs": [
    {
     "name": "stdout",
     "output_type": "stream",
     "text": [
      "Jumlah orang mendapatkan tagihan kesehatan > 16.7K: 334\n",
      "Distribusi orang dengan BMI < 25 dan mendapatkan tagihan kesehatan > 16.7K: 51\n",
      "Probability jumlah orang dengan BMI < 25 dan mendapatkan tagihan kesehatan > 16.7K: 0.15\n"
     ]
    }
   ],
   "source": [
    "# 1. Jumlah sample yaitu orang dengan tagihan kesehatan > 16.7K\n",
    "jumlah_sample = df[df['charges']>16700].value_counts().sum()\n",
    "print(\"Jumlah orang mendapatkan tagihan kesehatan > 16.7K: {}\".format(jumlah_sample))\n",
    "\n",
    "# 2. Jumlah oragn dengan bmi < 25 dan charges > 16700\n",
    "jumlah_1 = df.where((df['bmi']<25) & (df['charges']>16700)).value_counts().sum()\n",
    "print(\"Distribusi orang dengan BMI < 25 dan mendapatkan tagihan kesehatan > 16.7K: {}\".format(jumlah_1))\n",
    "\n",
    "# 3. Probability orang dengan bmi < 25 dan charges > 16700\n",
    "p_jumlah_1 = jumlah_1 / jumlah_sample\n",
    "print(\"Probability jumlah orang dengan BMI < 25 dan mendapatkan tagihan kesehatan > 16.7K: {}\".format(np.round(p_jumlah_1, 2)))"
   ]
  },
  {
   "cell_type": "markdown",
   "id": "cd934779-015a-4de9-880a-d5d61ae09406",
   "metadata": {},
   "source": [
    "Jadi, yang paling mungkin terjadi adalah orang dengan BMI > 25 dan mendapatkan tagihan kesehatan > 16.7K dengan probabilitas sebesar 0.85, di mana bisa juga dikatakan bahwa 8 dari 10 orang dengan BMI lebih dari 25 memiliki tagihan kesehatan lebih dari 16.7K."
   ]
  },
  {
   "cell_type": "markdown",
   "id": "67959f02-a856-4aa1-84a7-7dc42b8426f7",
   "metadata": {},
   "source": [
    "## 2. Mana yang lebih mungkin terjadi</br>\n",
    "\n",
    "- Seseorang perokok dengan BMI diatas 25 mendapatkan tagihan kesehatan diatas 16.7k, atau\n",
    "- Seseorang non perokok dengan BMI diatas 25 mendapatkan tagihan kesehatan diatas 16.7k"
   ]
  },
  {
   "cell_type": "markdown",
   "id": "3418cab1-de90-4a77-af21-a29aea3afbda",
   "metadata": {},
   "source": [
    "### Seseorang perokok dengan BMI diatas 25 mendapatkan tagihan kesehatan diatas 16.7k"
   ]
  },
  {
   "cell_type": "code",
   "execution_count": 86,
   "id": "a9a6d763-210b-4d78-b795-7533e3f77ddf",
   "metadata": {},
   "outputs": [
    {
     "name": "stdout",
     "output_type": "stream",
     "text": [
      "Jumlah orang dengan BMI > 25 dan mendapatkan tagihan kesehatan > 16.7K: 283\n",
      "Distribusi orang perokok dengan BMI > 25 dan mendapatkan tagihan kesehatan > 16.7K: 215\n",
      "Probability jumlah orang perokok dengan BMI > 25 dan mendapatkan tagihan kesehatan > 16.7K: 0.76\n"
     ]
    }
   ],
   "source": [
    "# 1. Jumlah sample yaitu orang dengan BMI > 25 dan tagihan kesehatan > 16.7K\n",
    "jumlah_sample = df[df['bmi']>25].where(df['charges']>16700).value_counts().sum()\n",
    "print(\"Jumlah orang dengan BMI > 25 dan mendapatkan tagihan kesehatan > 16.7K: {}\".format(jumlah_sample))\n",
    "\n",
    "# 2. Jumlah orang di mana smoker=='yes' dan bmi > 25 dan charges > 16.7\n",
    "jumlah_1 = df.where((df['smoker']=='yes') & (df['bmi']>25) & (df['charges']>16700)).value_counts().sum()\n",
    "print(\"Distribusi orang perokok dengan BMI > 25 dan mendapatkan tagihan kesehatan > 16.7K: {}\".format(jumlah_1))\n",
    "\n",
    "# Probability \n",
    "p_jumlah_1 = jumlah_1 / jumlah_sample\n",
    "print(\"Probability jumlah orang perokok dengan BMI > 25 dan mendapatkan tagihan kesehatan > 16.7K: {}\".format(np.round(p_jumlah_1, 2)))"
   ]
  },
  {
   "cell_type": "markdown",
   "id": "eb110cce-e5a7-4021-aafc-ce65d287e4c1",
   "metadata": {},
   "source": [
    "### Seseorang non perokok dengan BMI diatas 25 mendapatkan tagihan kesehatan diatas 16.7k"
   ]
  },
  {
   "cell_type": "code",
   "execution_count": 87,
   "id": "0f673bcd-fa2e-4f50-bb72-dab6c4b2fed4",
   "metadata": {},
   "outputs": [
    {
     "name": "stdout",
     "output_type": "stream",
     "text": [
      "Jumlah orang dengan BMI > 25 dan mendapatkan tagihan kesehatan > 16.7K: 283\n",
      "Distribusi orang non perokok dengan BMI > 25 dan mendapatkan tagihan kesehatan > 16.7K: 68\n",
      "Probability jumlah orang non perokok dengan BMI > 25 dan mendapatkan tagihan kesehatan > 16.7K: 0.24\n"
     ]
    }
   ],
   "source": [
    "# 1. Jumlah sample yaitu orang dengan BMI > 25 dan tagihan kesehatan > 16.7K\n",
    "jumlah_sample = df[df['bmi']>25].where(df['charges']>16700).value_counts().sum()\n",
    "print(\"Jumlah orang dengan BMI > 25 dan mendapatkan tagihan kesehatan > 16.7K: {}\".format(jumlah_sample))\n",
    "\n",
    "# 2. Jumlah orang di mana smoker=='no' dan bmi > 25 dan charges > 16.7\n",
    "jumlah_1 = df.where((df['smoker']=='no') & (df['bmi']>25) & (df['charges']>16700)).value_counts().sum()\n",
    "print(\"Distribusi orang non perokok dengan BMI > 25 dan mendapatkan tagihan kesehatan > 16.7K: {}\".format(jumlah_1))\n",
    "\n",
    "# Probability \n",
    "p_jumlah_1 = jumlah_1 / jumlah_sample\n",
    "print(\"Probability jumlah orang non perokok dengan BMI > 25 dan mendapatkan tagihan kesehatan > 16.7K: {}\".format(np.round(p_jumlah_1, 2)))"
   ]
  },
  {
   "cell_type": "markdown",
   "id": "14f6e0aa-6b96-48c9-adca-55abc04cf388",
   "metadata": {},
   "source": [
    "# Analisis Korelasi Variabel"
   ]
  },
  {
   "cell_type": "code",
   "execution_count": 97,
   "id": "577c1a02-7720-430d-9f09-b002a58de5ee",
   "metadata": {},
   "outputs": [
    {
     "data": {
      "text/plain": [
       "<Axes: >"
      ]
     },
     "execution_count": 97,
     "metadata": {},
     "output_type": "execute_result"
    },
    {
     "data": {
      "image/png": "[encoded data removed]",
      "text/plain": [
       "<Figure size 1490.4x595.44 with 2 Axes>"
      ]
     },
     "metadata": {},
     "output_type": "display_data"
    }
   ],
   "source": [
    "data_corr = df[['age', 'bmi', 'children', 'charges']].corr(method='pearson')\n",
    "mask = np.triu(np.ones_like(data_corr, dtype=bool))\n",
    "cmap = sns.diverging_palette(230, 20, as_cmap=True)\n",
    "sns.heatmap(data_corr, mask=mask, cmap='Blues', vmax=0.3, square=True, annot=True)"
   ]
  },
  {
   "cell_type": "markdown",
   "id": "91e3389a-21ca-48bf-8c48-2b3d5af58bdc",
   "metadata": {},
   "source": [
    "# Pengujian Hipotesis"
   ]
  },
  {
   "cell_type": "markdown",
   "id": "a73a425c-bb0e-4695-947f-4b359c126abd",
   "metadata": {},
   "source": [
    "## 1. Tagihan kesehatan perokok lebih tinggi daripada tagihan kesehatan non perokok"
   ]
  },
  {
   "cell_type": "markdown",
   "id": "59c8f976-bea5-4268-987a-f31dbc032f83",
   "metadata": {},
   "source": [
    "- H0: Perokok memiliki tagihan kesehatan > daripada tagihan non perokok\n",
    "- H1: Perokok memiliki tagihan kesehatan <= daripada tagihan non perokok\n",
    "- alpha: 5%"
   ]
  },
  {
   "cell_type": "code",
   "execution_count": 100,
   "id": "69107ee8-7981-4d46-ba47-e6cdb4090b5a",
   "metadata": {},
   "outputs": [
    {
     "name": "stdout",
     "output_type": "stream",
     "text": [
      "Jumlah perokok: 274 orang\n",
      "Jumlah non perokok: 1064 orang\n",
      "Jumlah keseluruhan sampel: 1338\n",
      "\n",
      "Rata-rata tagihan pada perokok dan non perokok: \n"
     ]
    },
    {
     "data": {
      "text/html": [
       "<div>\n",
       "<style scoped>\n",
       "    .dataframe tbody tr th:only-of-type {\n",
       "        vertical-align: middle;\n",
       "    }\n",
       "\n",
       "    .dataframe tbody tr th {\n",
       "        vertical-align: top;\n",
       "    }\n",
       "\n",
       "    .dataframe thead th {\n",
       "        text-align: right;\n",
       "    }\n",
       "</style>\n",
       "<table border=\"1\" class=\"dataframe\">\n",
       "  <thead>\n",
       "    <tr style=\"text-align: right;\">\n",
       "      <th></th>\n",
       "      <th>charges</th>\n",
       "    </tr>\n",
       "    <tr>\n",
       "      <th>smoker</th>\n",
       "      <th></th>\n",
       "    </tr>\n",
       "  </thead>\n",
       "  <tbody>\n",
       "    <tr>\n",
       "      <th>no</th>\n",
       "      <td>8434.268298</td>\n",
       "    </tr>\n",
       "    <tr>\n",
       "      <th>yes</th>\n",
       "      <td>32050.231832</td>\n",
       "    </tr>\n",
       "  </tbody>\n",
       "</table>\n",
       "</div>"
      ],
      "text/plain": [
       "             charges\n",
       "smoker              \n",
       "no       8434.268298\n",
       "yes     32050.231832"
      ]
     },
     "metadata": {},
     "output_type": "display_data"
    }
   ],
   "source": [
    "# Tentukan populasinya\n",
    "# 1. Sampel Tagihan Perokok\n",
    "jml_perokok = df[df['smoker']=='yes'].value_counts().sum()\n",
    "print(\"Jumlah perokok: {} orang\".format(jml_perokok))\n",
    "\n",
    "# 2. Sampel Tagihan non perokok\n",
    "jml_non_perokok = df[df['smoker']=='no'].value_counts().sum()\n",
    "print(\"Jumlah non perokok: {} orang\".format(jml_non_perokok))\n",
    "print(\"Jumlah keseluruhan sampel: {}\".format(df.shape[0]))\n",
    "\n",
    "# Tentukan rata-rata charges(tagihan) dari kedua sampel\n",
    "print(\"\\nRata-rata tagihan pada perokok dan non perokok: \")\n",
    "mu = df[['charges']].groupby(df['smoker']).mean()\n",
    "display(mu)\n",
    "mu1 = mu['charges']['no']\n",
    "mu2 = mu['charges']['yes']"
   ]
  },
  {
   "cell_type": "code",
   "execution_count": 102,
   "id": "ddb909c0-b4e0-4158-a5e5-1672f9d173b9",
   "metadata": {},
   "outputs": [
    {
     "data": {
      "text/plain": [
       "<matplotlib.lines.Line2D at 0x7fd1c3da95b0>"
      ]
     },
     "execution_count": 102,
     "metadata": {},
     "output_type": "execute_result"
    },
    {
     "data": {
      "image/png": "[encoded data removed]",
      "text/plain": [
       "<Figure size 360x360 with 1 Axes>"
      ]
     },
     "metadata": {},
     "output_type": "display_data"
    }
   ],
   "source": [
    "# Plot distribusi charges di seluruh populasi\n",
    "sns.displot(df, x='charges')\n",
    "plt.axvline(x=mu1, linestyle='--', c='red', label='mean tagihan non perokok')\n",
    "plt.axvline(x=mu2, linestyle='--', c='black', label='mean tagihan perokok')"
   ]
  },
  {
   "cell_type": "markdown",
   "id": "714ce78c-333c-4a45-980c-68057f0fb9ec",
   "metadata": {},
   "source": [
    "Berdasarkan grafik di atas terlihat bahwa bentuk distribusi data adalah positive-skew. Maka dari itu kita perlu menormalkan distribusi charges dengan mengeluarkan data outlier dari distribusi. Dari grafik terlihat bahwa outlier dimulai dari data charges dengan nilai di atas 15K."
   ]
  },
  {
   "cell_type": "code",
   "execution_count": 105,
   "id": "2cadb803-7f44-47ec-86e0-03d25c669356",
   "metadata": {},
   "outputs": [
    {
     "name": "stdout",
     "output_type": "stream",
     "text": [
      "Jumlah sampel sekarang menjadi: 980\n",
      "Jumlah sampel baru perokok: 7 orang\n",
      "Jumlah sampel baru non perokok: 973 orang\n",
      "\n",
      "Rata-rata tagihan pada perokok dan non perokok: \n"
     ]
    },
    {
     "data": {
      "text/html": [
       "<div>\n",
       "<style scoped>\n",
       "    .dataframe tbody tr th:only-of-type {\n",
       "        vertical-align: middle;\n",
       "    }\n",
       "\n",
       "    .dataframe tbody tr th {\n",
       "        vertical-align: top;\n",
       "    }\n",
       "\n",
       "    .dataframe thead th {\n",
       "        text-align: right;\n",
       "    }\n",
       "</style>\n",
       "<table border=\"1\" class=\"dataframe\">\n",
       "  <thead>\n",
       "    <tr style=\"text-align: right;\">\n",
       "      <th></th>\n",
       "      <th>charges</th>\n",
       "    </tr>\n",
       "    <tr>\n",
       "      <th>smoker</th>\n",
       "      <th></th>\n",
       "    </tr>\n",
       "  </thead>\n",
       "  <tbody>\n",
       "    <tr>\n",
       "      <th>no</th>\n",
       "      <td>7062.200064</td>\n",
       "    </tr>\n",
       "    <tr>\n",
       "      <th>yes</th>\n",
       "      <td>14063.510214</td>\n",
       "    </tr>\n",
       "  </tbody>\n",
       "</table>\n",
       "</div>"
      ],
      "text/plain": [
       "             charges\n",
       "smoker              \n",
       "no       7062.200064\n",
       "yes     14063.510214"
      ]
     },
     "metadata": {},
     "output_type": "display_data"
    },
    {
     "data": {
      "text/plain": [
       "<matplotlib.lines.Line2D at 0x7fd1c3e1bf10>"
      ]
     },
     "execution_count": 105,
     "metadata": {},
     "output_type": "execute_result"
    },
    {
     "data": {
      "image/png": "[encoded data removed]",
      "text/plain": [
       "<Figure size 360x360 with 1 Axes>"
      ]
     },
     "metadata": {},
     "output_type": "display_data"
    }
   ],
   "source": [
    "# Filter data tagihan, gunakan tagihan (charges) < 15K\n",
    "data_charges = df[df['charges']<15000]\n",
    "print(\"Jumlah sampel sekarang menjadi: {}\".format(data_charges.shape[0]))\n",
    "\n",
    "# Sampel Baru Tagihan Perokok\n",
    "jml_perokok = data_charges.where(df['smoker']=='yes').value_counts().sum()\n",
    "print(\"Jumlah sampel baru perokok: {} orang\".format(jml_perokok))\n",
    "\n",
    "# Sampel Baru Tagihan non perokok\n",
    "jml_non_perokok = data_charges.where(df['smoker']=='no').value_counts().sum()\n",
    "print(\"Jumlah sampel baru non perokok: {} orang\".format(jml_non_perokok))\n",
    "\n",
    "# Tentukan rata-rata charges(tagihan) dari kedua populasi\n",
    "print(\"\\nRata-rata tagihan pada perokok dan non perokok: \")\n",
    "mu = data_charges[['charges']].groupby(df['smoker']).mean()\n",
    "display(mu)\n",
    "mu1 = mu['charges']['no']\n",
    "mu2 = mu['charges']['yes']\n",
    "\n",
    "sns.displot(data_charges, x='charges')\n",
    "plt.axvline(x=mu1, linestyle='--', c='red', label='mean tagihan non perokok')\n",
    "plt.axvline(x=mu2, linestyle='--', c='black', label='mean tagihan perokok')"
   ]
  },
  {
   "cell_type": "code",
   "execution_count": 106,
   "id": "fcf1337b-1950-43eb-9bdf-7148170bd578",
   "metadata": {},
   "outputs": [],
   "source": [
    "# Pisahkan sampel tagihan perokok dengan non-perokok\n",
    "tagihan_smoker = data_charges['charges'].where(df['smoker']=='yes').dropna()\n",
    "tagihan_non_smoker = data_charges['charges'].where(df['smoker']=='no').dropna()"
   ]
  },
  {
   "cell_type": "markdown",
   "id": "b63635ac-0c96-4602-b88a-ed7d52288201",
   "metadata": {},
   "source": [
    "**Langkah 2: Hitung Statistik Uji**\n",
    "\n",
    "Pada kasus ini digunakan statistik Uji T.\n",
    "\n",
    "**Langkah 3: Menentukan aturan keputusan**\n",
    "\n",
    "Aturan keputusan didasarkan pada nilai spesifik dari statistik uji (misal, tolak H0 jika Z > 1.645). Karena pada H1 mengandung tanda \"<\", maka disini dilakukan Lower-tailed test. Dalam uji pihak kiri, aturan keputusan memiliki aturan menolak H0 jika statistik uji lebih kecil dari nilai kritis.\n",
    "\n",
    "**Langkah 4: Menentukan Kritikal Value**"
   ]
  },
  {
   "cell_type": "code",
   "execution_count": 107,
   "id": "262cc353-25f9-4db1-9913-b995e28b82fb",
   "metadata": {},
   "outputs": [
    {
     "name": "stdout",
     "output_type": "stream",
     "text": [
      "Varian Tagihan Perokok: 425214.3872213427\n",
      "Varian Tagihan non Perokok: 14731102.73855582\n",
      "Hasil Uji T: 25.41569223937772\n",
      "P-value: 0.9999999997042908\n"
     ]
    }
   ],
   "source": [
    "print(\"Varian Tagihan Perokok: {}\".format(tagihan_smoker.var()))\n",
    "print(\"Varian Tagihan non Perokok: {}\".format(tagihan_non_smoker.var()))\n",
    "\n",
    "# Langkah 2 s/d 4 diimplementasikan sekaligus\n",
    "from scipy.stats import ttest_ind\n",
    "\n",
    "# Lakukan statistik uji T dan hitung p_value\n",
    "test_stats, p_value = ttest_ind(a=tagihan_smoker, b=tagihan_non_smoker, equal_var=False, alternative='less')\n",
    "print(\"Hasil Uji T: {}\".format(test_stats))\n",
    "print(\"P-value: {}\".format(p_value))"
   ]
  },
  {
   "cell_type": "markdown",
   "id": "999c1657-a841-4e73-8ccc-8e746444b6f3",
   "metadata": {},
   "source": [
    "**Langkah 5: Membuat Keputusan**\n",
    "\n",
    "Ada dua bentuk umum yang dapat diambil dari hasil uji hipotesis statistik.\n",
    "- p-value.</br>\n",
    "Nilai P digunakan dalam pengujian hipotesis untuk membantu memutuskan apakah akan menolak hipotesis nol.\n",
    "Nilai p-value adalah bukti terhadap hipotesis nol. Semakin kecil nilai p-value, semakin kuat bukti bahwa kita harus menolak hipotesis nol.\n",
    "- critical value</br>\n",
    "Nilai batas yang digunakan untuk menandai dimulainya suatu wilayah di mana statistik uji, yang diperoleh dalam pengujian hipotesis, tidak mungkin jatuh.\n",
    "Nilai kritis dibandingkan dengan statistik uji yang diperoleh untuk menentukan apakah hipotesis nol harus ditolak atau tidak.\n",
    "Statistik uji < Critical value: Hasil tidak signifikan, gagal menolak H0.\n",
    "Statistik uji >= Critical value: Hasil signifikan, tolak hipotesis H0."
   ]
  },
  {
   "cell_type": "code",
   "execution_count": 109,
   "id": "09f32c7f-e832-4cda-8fae-d30ec58c43be",
   "metadata": {},
   "outputs": [
    {
     "name": "stdout",
     "output_type": "stream",
     "text": [
      "Gagal tolak H0\n"
     ]
    }
   ],
   "source": [
    "alpha = 0.05\n",
    "if p_value > alpha:\n",
    "    print(\"Gagal tolak H0\")\n",
    "else:\n",
    "    print(\"Tolak H0\")"
   ]
  },
  {
   "cell_type": "markdown",
   "id": "7dd431ef-b965-4672-8f7f-152ca6bcf53d",
   "metadata": {},
   "source": [
    "Berdasarkan keputusan yang didapatkan, maka kesimpulan dari pengujian hipotesis yang sudah dilakukan adalah **Tagihan kesehatan perokok lebih tinggi daripada tagihan kesehatan non perokok.**"
   ]
  },
  {
   "cell_type": "markdown",
   "id": "fea33335-70f1-4d87-8f56-13f74515976c",
   "metadata": {},
   "source": [
    "## 2. Tagihan kesehatan dengan BMI diatas 25 lebih tinggi daripada tagihan kesehatan dengan BMI dibawah 25"
   ]
  },
  {
   "cell_type": "markdown",
   "id": "c851da4e-aa52-4f99-b6fb-35dabff1de41",
   "metadata": {},
   "source": [
    "**Hipotesis**\n",
    "\n",
    "- H0: Tagihan kesehatan dengan BMI di atas 25 > Tagihan kesehatan dengan BMI di bawah 25.\n",
    "- H1: Tagihan kesehatan dengan BMI di atas 25 < Tagihan kesehatan dengan BMI di bawah 25.\n",
    "- alpha: 5%</br>\n",
    "\n",
    "Kasus ini mirip dengan penyelesaian pada Hipotesis #1, di mana kondisi distribusi data tagihan (charges) adalah positiven skew. Maka dari itu kita bisa mengabaikan data outlier untuk kemudian masuk ke statistik uji."
   ]
  },
  {
   "cell_type": "code",
   "execution_count": 112,
   "id": "ca2cb6da-4724-4f16-89f0-3c065ff55500",
   "metadata": {},
   "outputs": [
    {
     "name": "stdout",
     "output_type": "stream",
     "text": [
      "Jumlah sampel sekarang menjadi: 980\n",
      "Jumlah sampel tagihan dengan BMI>25: 793 orang\n",
      "Jumlah sampel tagihan dengan BMI<=25: 187 orang\n",
      "\n",
      "Rata-rata tagihan pada BMI>25 dan BMI<=25: \n"
     ]
    },
    {
     "data": {
      "text/html": [
       "<div>\n",
       "<style scoped>\n",
       "    .dataframe tbody tr th:only-of-type {\n",
       "        vertical-align: middle;\n",
       "    }\n",
       "\n",
       "    .dataframe tbody tr th {\n",
       "        vertical-align: top;\n",
       "    }\n",
       "\n",
       "    .dataframe thead th {\n",
       "        text-align: right;\n",
       "    }\n",
       "</style>\n",
       "<table border=\"1\" class=\"dataframe\">\n",
       "  <thead>\n",
       "    <tr style=\"text-align: right;\">\n",
       "      <th></th>\n",
       "      <th>charges</th>\n",
       "    </tr>\n",
       "    <tr>\n",
       "      <th>bmi</th>\n",
       "      <th></th>\n",
       "    </tr>\n",
       "  </thead>\n",
       "  <tbody>\n",
       "    <tr>\n",
       "      <th>False</th>\n",
       "      <td>6733.691762</td>\n",
       "    </tr>\n",
       "    <tr>\n",
       "      <th>True</th>\n",
       "      <td>7201.468947</td>\n",
       "    </tr>\n",
       "  </tbody>\n",
       "</table>\n",
       "</div>"
      ],
      "text/plain": [
       "           charges\n",
       "bmi               \n",
       "False  6733.691762\n",
       "True   7201.468947"
      ]
     },
     "metadata": {},
     "output_type": "display_data"
    },
    {
     "data": {
      "text/plain": [
       "<matplotlib.lines.Line2D at 0x7fd1c37603a0>"
      ]
     },
     "execution_count": 112,
     "metadata": {},
     "output_type": "execute_result"
    },
    {
     "data": {
      "image/png": "[encoded data removed]",
      "text/plain": [
       "<Figure size 360x360 with 1 Axes>"
      ]
     },
     "metadata": {},
     "output_type": "display_data"
    }
   ],
   "source": [
    "# Filter data tagihan, gunakan tagihan (charges) < 15K\n",
    "data_charges = df[df['charges']<15000]\n",
    "print(\"Jumlah sampel sekarang menjadi: {}\".format(data_charges.shape[0]))\n",
    "\n",
    "# Sampel Baru Tagihan BMI>25\n",
    "bmi_g25_tagihan = data_charges.where(df['bmi']>25).value_counts().sum()\n",
    "print(\"Jumlah sampel tagihan dengan BMI>25: {} orang\".format(bmi_g25_tagihan))\n",
    "\n",
    "# Sampel Baru Tagihan BMI<25\n",
    "bmi_l25_tagihan = data_charges.where(df['bmi']<=25).value_counts().sum()\n",
    "print(\"Jumlah sampel tagihan dengan BMI<=25: {} orang\".format(bmi_l25_tagihan))\n",
    "\n",
    "# Tentukan rata-rata charges(tagihan) dari kedua populasi\n",
    "print(\"\\nRata-rata tagihan pada BMI>25 dan BMI<=25: \")\n",
    "mu = data_charges[['charges']].groupby(df['bmi']>25).mean()\n",
    "display(mu)\n",
    "mu1 = mu['charges'][0]\n",
    "mu2 = mu['charges'][1]\n",
    "\n",
    "sns.displot(data_charges, x='charges')\n",
    "plt.axvline(x=mu1, linestyle='--', c='red', label='mean tagihan')\n",
    "plt.axvline(x=mu2, linestyle='--', c='black', label='mean tagihan')"
   ]
  },
  {
   "cell_type": "code",
   "execution_count": 113,
   "id": "ee488a57-1f5a-4cd1-8bb5-72d5f4ed9325",
   "metadata": {},
   "outputs": [
    {
     "name": "stdout",
     "output_type": "stream",
     "text": [
      "Varian Tagihan BMI>25: 14659959.63403945\n",
      "Varian Tagihan BMI<=25: 16226139.93278577\n",
      "Apakah varian kedua sampel sama? False\n"
     ]
    }
   ],
   "source": [
    "# Pisahkan sampel tagihan dengan BMI> dan BMI<=25\n",
    "bmi_g25 = data_charges['charges'].where(df['bmi']>25).dropna()\n",
    "bmi_l25 = data_charges['charges'].where(df['bmi']<=25).dropna()\n",
    "print(\"Varian Tagihan BMI>25: {}\".format(bmi_g25.var()))\n",
    "print(\"Varian Tagihan BMI<=25: {}\".format(bmi_l25.var()))\n",
    "equal_var = True if bmi_g25.var()==bmi_l25.var() else False\n",
    "print(\"Apakah varian kedua sampel sama? {}\".format(equal_var))"
   ]
  },
  {
   "cell_type": "code",
   "execution_count": 114,
   "id": "75526092-a1dd-4904-b45a-c6e5ee18cb75",
   "metadata": {},
   "outputs": [
    {
     "name": "stdout",
     "output_type": "stream",
     "text": [
      "Hasil Uji T: 1.4418247938478395\n",
      "P-value: 0.9247463946839116\n",
      "Gagal tolak H0\n"
     ]
    }
   ],
   "source": [
    "#Lakukan Statistik Uji T dan Hitung p_value\n",
    "\n",
    "alpha = 0.05\n",
    "test_stats, p_value = ttest_ind(a=bmi_g25, b=bmi_l25, equal_var=equal_var, alternative='less')\n",
    "print(\"Hasil Uji T: {}\".format(test_stats))\n",
    "print(\"P-value: {}\".format(p_value))\n",
    "\n",
    "if p_value > alpha:\n",
    "    print(\"Gagal tolak H0\")\n",
    "else:\n",
    "    print(\"Tolak H0\")"
   ]
  },
  {
   "cell_type": "markdown",
   "id": "828f74c2-b410-4e01-96c3-27766bcd2b6e",
   "metadata": {},
   "source": [
    "Berdasarkan keputusan yang didapatkan, maka kesimpulan dari pengujian hipotesis yang sudah dilakukan adalah **Tagihan kesehatan orang dengan BMI lebih tinggi dari 25 lebih besar daripada orang yang BMI-nya di bawah 25.**"
   ]
  },
  {
   "cell_type": "markdown",
   "id": "984913e8-bc79-4c3f-817d-5a2c44eb6a0c",
   "metadata": {},
   "source": [
    "## 3. Tagihan kesehatan laki-laki lebih besar dari perempuan"
   ]
  },
  {
   "cell_type": "markdown",
   "id": "2f6e98ff-1c79-45bc-bbb4-f4e6d8b42750",
   "metadata": {},
   "source": [
    "Hipotesis:\n",
    "\n",
    "- H0: Tagihan kesehatan laki-laki > tagihan kesehatan perempuan\n",
    "- H1: Tagihan kesehatan laki-laki <= tagihan kesehatan perempuan\n",
    "- alpha: 5%"
   ]
  },
  {
   "cell_type": "code",
   "execution_count": 118,
   "id": "3ad0fbd6-22af-41d5-936a-3ddb793d0f73",
   "metadata": {},
   "outputs": [
    {
     "name": "stdout",
     "output_type": "stream",
     "text": [
      "Jumlah sampel sekarang menjadi: 980\n",
      "Jumlah sampel tagihan pada gender laki-laki: 477 orang\n",
      "Jumlah sampel tagihan pada gender perempuan: 503 orang\n",
      "\n",
      "Rata-rata Tagihan pada Laki-laki dan Perempuan: \n"
     ]
    },
    {
     "data": {
      "text/html": [
       "<div>\n",
       "<style scoped>\n",
       "    .dataframe tbody tr th:only-of-type {\n",
       "        vertical-align: middle;\n",
       "    }\n",
       "\n",
       "    .dataframe tbody tr th {\n",
       "        vertical-align: top;\n",
       "    }\n",
       "\n",
       "    .dataframe thead th {\n",
       "        text-align: right;\n",
       "    }\n",
       "</style>\n",
       "<table border=\"1\" class=\"dataframe\">\n",
       "  <thead>\n",
       "    <tr style=\"text-align: right;\">\n",
       "      <th></th>\n",
       "      <th>charges</th>\n",
       "    </tr>\n",
       "    <tr>\n",
       "      <th>sex</th>\n",
       "      <th></th>\n",
       "    </tr>\n",
       "  </thead>\n",
       "  <tbody>\n",
       "    <tr>\n",
       "      <th>female</th>\n",
       "      <td>7412.722165</td>\n",
       "    </tr>\n",
       "    <tr>\n",
       "      <th>male</th>\n",
       "      <td>6795.316531</td>\n",
       "    </tr>\n",
       "  </tbody>\n",
       "</table>\n",
       "</div>"
      ],
      "text/plain": [
       "            charges\n",
       "sex                \n",
       "female  7412.722165\n",
       "male    6795.316531"
      ]
     },
     "metadata": {},
     "output_type": "display_data"
    },
    {
     "data": {
      "text/plain": [
       "<matplotlib.lines.Line2D at 0x7fd1c35b5970>"
      ]
     },
     "execution_count": 118,
     "metadata": {},
     "output_type": "execute_result"
    },
    {
     "data": {
      "image/png": "[encoded data removed]",
      "text/plain": [
       "<Figure size 360x360 with 1 Axes>"
      ]
     },
     "metadata": {},
     "output_type": "display_data"
    }
   ],
   "source": [
    "# Filter data tagihan, gunakan tagihan (charges) < 15K\n",
    "data_charges = df[df['charges']<15000]\n",
    "print(\"Jumlah sampel sekarang menjadi: {}\".format(data_charges.shape[0]))\n",
    "\n",
    "# Sampel Baru Tagihan Laki-laki\n",
    "tagihan_laki = data_charges.where(df['sex']=='male').value_counts().sum()\n",
    "print(\"Jumlah sampel tagihan pada gender laki-laki: {} orang\".format(tagihan_laki))\n",
    "\n",
    "# Sampel Baru Tagihan Perempuan\n",
    "tagihan_perempuan = data_charges.where(df['sex']=='female').value_counts().sum()\n",
    "print(\"Jumlah sampel tagihan pada gender perempuan: {} orang\".format(tagihan_perempuan))\n",
    "\n",
    "# Tentukan rata-rata charges(tagihan) dari kedua sampel\n",
    "print(\"\\nRata-rata Tagihan pada Laki-laki dan Perempuan: \")\n",
    "mu = data_charges[['charges']].groupby(df['sex']).mean()\n",
    "display(mu)\n",
    "mu1 = mu['charges']['male']\n",
    "mu2 = mu['charges']['female']\n",
    "\n",
    "sns.displot(data_charges, x='charges')\n",
    "plt.axvline(x=mu1, linestyle='--', c='red', label='mean tagihan')\n",
    "plt.axvline(x=mu2, linestyle='--', c='black', label='mean tagihan')"
   ]
  },
  {
   "cell_type": "code",
   "execution_count": 119,
   "id": "016897c5-55f8-4b87-960c-74a68aa3e4ca",
   "metadata": {},
   "outputs": [
    {
     "name": "stdout",
     "output_type": "stream",
     "text": [
      "Varian Tagihan Laki-laki: 14837873.420394791\n",
      "Varian Tagihan Perempuan: 14951607.858448775\n",
      "Apakah varian kedua sampel sama? False\n"
     ]
    }
   ],
   "source": [
    "# Pisahkan sampel tagihan pada gender laki-laki dan perempuan\n",
    "male = data_charges['charges'].where(df['sex']=='male').dropna()\n",
    "female = data_charges['charges'].where(df['sex']=='female').dropna()\n",
    "print(\"Varian Tagihan Laki-laki: {}\".format(male.var()))\n",
    "print(\"Varian Tagihan Perempuan: {}\".format(female.var()))\n",
    "equal_var = True if male.var()==female.var() else False\n",
    "print(\"Apakah varian kedua sampel sama? {}\".format(equal_var))"
   ]
  },
  {
   "cell_type": "code",
   "execution_count": 120,
   "id": "8910090c-3cc7-4164-bd2b-5610dfbe3795",
   "metadata": {},
   "outputs": [
    {
     "name": "stdout",
     "output_type": "stream",
     "text": [
      "Hasil Uji T: -2.5032617062621183\n",
      "P-value: 0.006233964666790543\n",
      "Tolak H0\n"
     ]
    }
   ],
   "source": [
    "# Uji statistik T dan P_value\n",
    "alpha = 0.05\n",
    "test_stats, p_value = ttest_ind(a=male, b=female, equal_var=equal_var, alternative='less')\n",
    "print(\"Hasil Uji T: {}\".format(test_stats))\n",
    "print(\"P-value: {}\".format(p_value))\n",
    "\n",
    "if p_value > alpha:\n",
    "    print(\"Gagal tolak H0\")\n",
    "else:\n",
    "    print(\"Tolak H0\")"
   ]
  },
  {
   "cell_type": "markdown",
   "id": "6fbae481-3e00-4957-adf9-fea4b3a3d390",
   "metadata": {},
   "source": [
    "Berdasarkan keputusan yang didapatkan, maka kesimpulan dari pengujian hipotesis yang sudah dilakukan adalah **Tagihan kesehatan laki-laki tidak lebih besar daripada tagihan kesehatan perempuan.**"
   ]
  },
  {
   "cell_type": "code",
   "execution_count": null,
   "id": "84699f12-6c7c-4cac-817b-1c60427673d6",
   "metadata": {},
   "outputs": [],
   "source": []
  }
 ],
 "metadata": {
  "kernelspec": {
   "display_name": "Python 3 (ipykernel)",
   "language": "python",
   "name": "python3"
  },
  "language_info": {
   "codemirror_mode": {
    "name": "ipython",
    "version": 3
   },
   "file_extension": ".py",
   "mimetype": "text/x-python",
   "name": "python",
   "nbconvert_exporter": "python",
   "pygments_lexer": "ipython3",
   "version": "3.9.5"
  }
 },
 "nbformat": 4,
 "nbformat_minor": 5
}
